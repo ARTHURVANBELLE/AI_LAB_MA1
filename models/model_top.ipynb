{
 "cells": [
  {
   "cell_type": "markdown",
   "id": "81e744c3",
   "metadata": {},
   "source": [
    "# Model for Top Lane players prediction"
   ]
  },
  {
   "cell_type": "markdown",
   "id": "aa04ee75",
   "metadata": {},
   "source": [
    "## Import MatPlotLib & Setup"
   ]
  },
  {
   "cell_type": "code",
   "execution_count": 1,
   "id": "31dc6bfe",
   "metadata": {},
   "outputs": [],
   "source": [
    "# Setup plotting\n",
    "import matplotlib.pyplot as plt\n",
    "# Set Matplotlib defaults\n",
    "plt.rc('figure', autolayout=True)\n",
    "plt.rc('axes', labelweight='bold', labelsize='large',\n",
    "       titleweight='bold', titlesize=18, titlepad=10)\n",
    "plt.rc('animation', html='html5')"
   ]
  },
  {
   "cell_type": "markdown",
   "id": "98606e02",
   "metadata": {},
   "source": [
    "## Import Keras, Pandas & other used libraries"
   ]
  },
  {
   "cell_type": "code",
   "execution_count": 2,
   "id": "296b467c",
   "metadata": {},
   "outputs": [],
   "source": [
    "import pandas as pd\n",
    "\n",
    "from sklearn.model_selection import train_test_split\n",
    "from sklearn.preprocessing import StandardScaler, OneHotEncoder\n",
    "from sklearn.impute import SimpleImputer\n",
    "from sklearn.pipeline import make_pipeline\n",
    "from sklearn.compose import make_column_transformer"
   ]
  },
  {
   "cell_type": "markdown",
   "id": "785b4326",
   "metadata": {},
   "source": [
    "## Visualize data"
   ]
  },
  {
   "cell_type": "code",
   "execution_count": 29,
   "id": "49c94ea8",
   "metadata": {},
   "outputs": [
    {
     "data": {
      "text/html": [
       "<div>\n",
       "<style scoped>\n",
       "    .dataframe tbody tr th:only-of-type {\n",
       "        vertical-align: middle;\n",
       "    }\n",
       "\n",
       "    .dataframe tbody tr th {\n",
       "        vertical-align: top;\n",
       "    }\n",
       "\n",
       "    .dataframe thead th {\n",
       "        text-align: right;\n",
       "    }\n",
       "</style>\n",
       "<table border=\"1\" class=\"dataframe\">\n",
       "  <thead>\n",
       "    <tr style=\"text-align: right;\">\n",
       "      <th></th>\n",
       "      <th>id</th>\n",
       "      <th>game_id</th>\n",
       "      <th>timestamp</th>\n",
       "      <th>event_type</th>\n",
       "      <th>killer_id</th>\n",
       "      <th>killed_id</th>\n",
       "      <th>assisting_player_ids</th>\n",
       "      <th>drake_type</th>\n",
       "    </tr>\n",
       "  </thead>\n",
       "  <tbody>\n",
       "    <tr>\n",
       "      <th>0</th>\n",
       "      <td>0</td>\n",
       "      <td>0</td>\n",
       "      <td>229</td>\n",
       "      <td>player_kill</td>\n",
       "      <td>21.0</td>\n",
       "      <td>29.0</td>\n",
       "      <td>[23]</td>\n",
       "      <td>NaN</td>\n",
       "    </tr>\n",
       "    <tr>\n",
       "      <th>1</th>\n",
       "      <td>1</td>\n",
       "      <td>0</td>\n",
       "      <td>289</td>\n",
       "      <td>player_kill</td>\n",
       "      <td>21.0</td>\n",
       "      <td>29.0</td>\n",
       "      <td>[23]</td>\n",
       "      <td>NaN</td>\n",
       "    </tr>\n",
       "    <tr>\n",
       "      <th>2</th>\n",
       "      <td>2</td>\n",
       "      <td>0</td>\n",
       "      <td>499</td>\n",
       "      <td>player_kill</td>\n",
       "      <td>25.0</td>\n",
       "      <td>21.0</td>\n",
       "      <td>[29, 22]</td>\n",
       "      <td>NaN</td>\n",
       "    </tr>\n",
       "    <tr>\n",
       "      <th>3</th>\n",
       "      <td>3</td>\n",
       "      <td>0</td>\n",
       "      <td>504</td>\n",
       "      <td>player_kill</td>\n",
       "      <td>22.0</td>\n",
       "      <td>23.0</td>\n",
       "      <td>[29, 25]</td>\n",
       "      <td>NaN</td>\n",
       "    </tr>\n",
       "    <tr>\n",
       "      <th>4</th>\n",
       "      <td>4</td>\n",
       "      <td>0</td>\n",
       "      <td>535</td>\n",
       "      <td>player_kill</td>\n",
       "      <td>28.0</td>\n",
       "      <td>24.0</td>\n",
       "      <td>[27]</td>\n",
       "      <td>NaN</td>\n",
       "    </tr>\n",
       "  </tbody>\n",
       "</table>\n",
       "</div>"
      ],
      "text/plain": [
       "   id  game_id  timestamp   event_type  killer_id  killed_id  \\\n",
       "0   0        0        229  player_kill       21.0       29.0   \n",
       "1   1        0        289  player_kill       21.0       29.0   \n",
       "2   2        0        499  player_kill       25.0       21.0   \n",
       "3   3        0        504  player_kill       22.0       23.0   \n",
       "4   4        0        535  player_kill       28.0       24.0   \n",
       "\n",
       "  assisting_player_ids drake_type  \n",
       "0                 [23]        NaN  \n",
       "1                 [23]        NaN  \n",
       "2             [29, 22]        NaN  \n",
       "3             [29, 25]        NaN  \n",
       "4                 [27]        NaN  "
      ]
     },
     "execution_count": 29,
     "metadata": {},
     "output_type": "execute_result"
    }
   ],
   "source": [
    "df_game_events = pd.read_csv(\"../data/game_events.csv\")\n",
    "df_game_events.head()\n",
    "\n",
    "game_events_features = ['timestamp', 'event_type', 'killer_id', 'killer_name', 'killer_team_id',]\n",
    "\n",
    "#df_game_events.event_type.value_counts()\n",
    "#df_game_events.drake_type.value_counts()\n",
    "#df_game_events.killer_id.value_counts()\n",
    "\n",
    "df_game_events.head()"
   ]
  },
  {
   "cell_type": "code",
   "execution_count": null,
   "id": "c56b7b10",
   "metadata": {},
   "outputs": [
    {
     "data": {
      "text/html": [
       "<div>\n",
       "<style scoped>\n",
       "    .dataframe tbody tr th:only-of-type {\n",
       "        vertical-align: middle;\n",
       "    }\n",
       "\n",
       "    .dataframe tbody tr th {\n",
       "        vertical-align: top;\n",
       "    }\n",
       "\n",
       "    .dataframe thead th {\n",
       "        text-align: right;\n",
       "    }\n",
       "</style>\n",
       "<table border=\"1\" class=\"dataframe\">\n",
       "  <thead>\n",
       "    <tr style=\"text-align: right;\">\n",
       "      <th></th>\n",
       "      <th>game_id</th>\n",
       "      <th>date</th>\n",
       "      <th>match_id</th>\n",
       "      <th>tournament_id</th>\n",
       "      <th>tournament_name</th>\n",
       "      <th>series_id</th>\n",
       "      <th>series_name</th>\n",
       "      <th>league_id</th>\n",
       "      <th>league_name</th>\n",
       "    </tr>\n",
       "  </thead>\n",
       "  <tbody>\n",
       "    <tr>\n",
       "      <th>0</th>\n",
       "      <td>0</td>\n",
       "      <td>2019-09-15 10:17:30.487000</td>\n",
       "      <td>0</td>\n",
       "      <td>0</td>\n",
       "      <td>Playoffs</td>\n",
       "      <td>0</td>\n",
       "      <td>VCS Summer 2019</td>\n",
       "      <td>0</td>\n",
       "      <td>VCS</td>\n",
       "    </tr>\n",
       "    <tr>\n",
       "      <th>1</th>\n",
       "      <td>1</td>\n",
       "      <td>2019-09-15 11:18:01.085000</td>\n",
       "      <td>0</td>\n",
       "      <td>0</td>\n",
       "      <td>Playoffs</td>\n",
       "      <td>0</td>\n",
       "      <td>VCS Summer 2019</td>\n",
       "      <td>0</td>\n",
       "      <td>VCS</td>\n",
       "    </tr>\n",
       "    <tr>\n",
       "      <th>2</th>\n",
       "      <td>2</td>\n",
       "      <td>2019-09-15 12:11:33.489000</td>\n",
       "      <td>0</td>\n",
       "      <td>0</td>\n",
       "      <td>Playoffs</td>\n",
       "      <td>0</td>\n",
       "      <td>VCS Summer 2019</td>\n",
       "      <td>0</td>\n",
       "      <td>VCS</td>\n",
       "    </tr>\n",
       "    <tr>\n",
       "      <th>3</th>\n",
       "      <td>3</td>\n",
       "      <td>2019-09-15 13:03:19.662000</td>\n",
       "      <td>0</td>\n",
       "      <td>0</td>\n",
       "      <td>Playoffs</td>\n",
       "      <td>0</td>\n",
       "      <td>VCS Summer 2019</td>\n",
       "      <td>0</td>\n",
       "      <td>VCS</td>\n",
       "    </tr>\n",
       "    <tr>\n",
       "      <th>4</th>\n",
       "      <td>4</td>\n",
       "      <td>2019-09-16 04:32:28.724000</td>\n",
       "      <td>1</td>\n",
       "      <td>1</td>\n",
       "      <td>Playoffs</td>\n",
       "      <td>1</td>\n",
       "      <td>LJL Summer 2019</td>\n",
       "      <td>1</td>\n",
       "      <td>LJL</td>\n",
       "    </tr>\n",
       "  </tbody>\n",
       "</table>\n",
       "</div>"
      ],
      "text/plain": [
       "   game_id                        date  match_id  tournament_id  \\\n",
       "0        0  2019-09-15 10:17:30.487000         0              0   \n",
       "1        1  2019-09-15 11:18:01.085000         0              0   \n",
       "2        2  2019-09-15 12:11:33.489000         0              0   \n",
       "3        3  2019-09-15 13:03:19.662000         0              0   \n",
       "4        4  2019-09-16 04:32:28.724000         1              1   \n",
       "\n",
       "  tournament_name  series_id      series_name  league_id league_name  \n",
       "0        Playoffs          0  VCS Summer 2019          0         VCS  \n",
       "1        Playoffs          0  VCS Summer 2019          0         VCS  \n",
       "2        Playoffs          0  VCS Summer 2019          0         VCS  \n",
       "3        Playoffs          0  VCS Summer 2019          0         VCS  \n",
       "4        Playoffs          1  LJL Summer 2019          1         LJL  "
      ]
     },
     "execution_count": 13,
     "metadata": {},
     "output_type": "execute_result"
    }
   ],
   "source": [
    "df_game_metadata = pd.read_csv(\"../data/game_metadata.csv\")\n",
    "df_game_metadata.head()\n",
    "\n",
    "game_metadata_features = ['game_id']"
   ]
  },
  {
   "cell_type": "code",
   "execution_count": 39,
   "id": "4eb84949",
   "metadata": {},
   "outputs": [
    {
     "data": {
      "text/plain": [
       "game_id  player_id  player_name  team_id  team_name              team_acronym  role     win    game_length  champion_name  team_kills  tower_kills  inhibitor_kills  dragon_kills  herald_kills  baron_kills  player_kills  player_deaths  player_assists  total_minions_killed  gold_earned  level  total_damage_dealt  total_damage_dealt_to_champions  total_damage_taken  wards_placed  largest_killing_spree  largest_multi_kill\n",
       "37458    4697       Mentos       27       WLGaming Esports       WLG           Mid      False  1568         Azir           13          4            0                0             0             0            3             3              1               228                   10659        14     148049              13042                            17711               10            0                      1                     1\n",
       "0        21         Stark        4        Team Flash             TF            Top      True   2010         Renekton       22          10           1                2             1             2            4             4              9               275                   14760        17     187887              12604                            31066               18            2                      1                     1\n",
       "         22         Venus        5        Lowkey Esport Vietnam  LK            Support  False  2010         Nautilus       18          2            0                0             0             0            2             5              10              61                    8188         13     23397               5298                             12630               47            2                      1                     1\n",
       "         23         YiJin        4        Team Flash             TF            Jungle   True   2010         Sejuani        22          10           1                2             1             2            4             2              13              157                   12963        16     165390              9776                             38185               11            3                      2                     1\n",
       "         24         Celebrity    5        Lowkey Esport Vietnam  LK            Bot      False  2010         Ezreal         18          2            0                0             0             0            2             4              10              285                   13108        16     197852              24770                            13523               12            2                      1                     1\n",
       "                                                                                                                                                                                                                                                                                                                                                                                                                                        ..\n",
       "1        23         YiJin        4        Team Flash             TF            Jungle   False  1716         Sejuani        10          5            0                2             0             0            3             3              6               147                   9524         13     123346              7283                             21301               11            2                      1                     1\n",
       "         22         Venus        5        Lowkey Esport Vietnam  LK            Support  True   1716         Morgana        15          7            2                2             1             1            1             1              9               23                    7633         12     14921               5919                             8751                34            0                      1                     1\n",
       "         21         Stark        4        Team Flash             TF            Top      False  1716         Camille        10          5            0                2             0             0            1             5              4               213                   10139        14     126771              10823                            20678               11            0                      1                     1\n",
       "0        30         C7N          4        Team Flash             TF            Mid      True   2010         Karma          22          10           1                2             1             2            4             2              11              303                   15143        18     196700              14106                            12036               15            2                      2                     1\n",
       "         29         Hani         5        Lowkey Esport Vietnam  LK            Top      False  2010         Kennen         18          2            0                0             0             0            1             5              5               229                   11160        16     136281              10920                            16643               13            0                      1                     1\n",
       "Name: count, Length: 374264, dtype: int64"
      ]
     },
     "execution_count": 39,
     "metadata": {},
     "output_type": "execute_result"
    }
   ],
   "source": [
    "df_game_players_stats = pd.read_csv(\"../data/game_players_stats.csv\")\n",
    "df_game_players_stats.head()\n",
    "\n",
    "game_players_stats_features_by_user = ['champion_name', 'tower_kills', 'inhibitor_kills', 'dragon_kills', 'herald_kills', 'baron_kills', \n",
    "                               'player_kills', 'player_deaths', 'player_assists','total_minions_killed', 'gold_earned', 'level', \n",
    "                               'total_damage_dealt','total_damage_dealt_to_champions', 'total_damage_taken', 'wards_placed', \n",
    "                               'largest_killing_spree', 'largest_multi_kill']\n",
    "\n",
    "df_game_players_stats.value_counts()"
   ]
  },
  {
   "cell_type": "markdown",
   "id": "a7f437d6",
   "metadata": {},
   "source": [
    "## Preprocessing data for win determination with one player's data"
   ]
  },
  {
   "cell_type": "code",
   "execution_count": null,
   "id": "75bc3427",
   "metadata": {},
   "outputs": [
    {
     "name": "stdout",
     "output_type": "stream",
     "text": [
      "  champion_name  tower_kills  inhibitor_kills  dragon_kills  herald_kills  \\\n",
      "0        Irelia            3                0             0             0   \n",
      "\n",
      "   baron_kills  player_kills  player_deaths  player_assists  \\\n",
      "0            0             2              5               1   \n",
      "\n",
      "   total_minions_killed  gold_earned  level  total_damage_dealt  \\\n",
      "0                   179         8530     12               99007   \n",
      "\n",
      "   total_damage_dealt_to_champions  total_damage_taken  wards_placed  \\\n",
      "0                             7923               15326             8   \n",
      "\n",
      "   largest_killing_spree  largest_multi_kill  \n",
      "0                      0                   1  \n"
     ]
    }
   ],
   "source": [
    "def get_player_data(player_id : int, game_id : int) -> pd.DataFrame:\n",
    "    \"\"\"\n",
    "    Get player data for a specific player and game.\n",
    "    \"\"\"\n",
    "    # Filter by game_id first\n",
    "    df_player = df_game_players_stats[df_game_players_stats['game_id'] == game_id]\n",
    "    \n",
    "    # Filter by player_id\n",
    "    df_player = df_player[df_player['player_id'] == player_id]\n",
    "    \n",
    "    # Create a new DataFrame with only the selected columns\n",
    "    df_player_selected = df_player[game_players_stats_features_by_user]\n",
    "    \n",
    "    return df_player_selected\n",
    "\n",
    "def normalize_player_data(dataframe : pd.DataFrame) -> pd.DataFrame:\n",
    "    \n",
    "    \n",
    "\n",
    "\n"
   ]
  }
 ],
 "metadata": {
  "kernelspec": {
   "display_name": ".venv",
   "language": "python",
   "name": "python3"
  },
  "language_info": {
   "codemirror_mode": {
    "name": "ipython",
    "version": 3
   },
   "file_extension": ".py",
   "mimetype": "text/x-python",
   "name": "python",
   "nbconvert_exporter": "python",
   "pygments_lexer": "ipython3",
   "version": "3.13.2"
  }
 },
 "nbformat": 4,
 "nbformat_minor": 5
}
