{
 "cells": [
  {
   "cell_type": "markdown",
   "id": "81e744c3",
   "metadata": {},
   "source": [
    "# Model for Top Lane players prediction"
   ]
  },
  {
   "cell_type": "markdown",
   "id": "aa04ee75",
   "metadata": {},
   "source": [
    "## Import MatPlotLib & Setup"
   ]
  },
  {
   "cell_type": "code",
   "execution_count": 1,
   "id": "31dc6bfe",
   "metadata": {},
   "outputs": [],
   "source": [
    "# Setup plotting\n",
    "import matplotlib.pyplot as plt\n",
    "# Set Matplotlib defaults\n",
    "plt.rc('figure', autolayout=True)\n",
    "plt.rc('axes', labelweight='bold', labelsize='large',\n",
    "       titleweight='bold', titlesize=18, titlepad=10)\n",
    "plt.rc('animation', html='html5')"
   ]
  },
  {
   "cell_type": "markdown",
   "id": "98606e02",
   "metadata": {},
   "source": [
    "## Import Keras, Pandas & other used libraries"
   ]
  },
  {
   "cell_type": "code",
   "execution_count": 2,
   "id": "296b467c",
   "metadata": {},
   "outputs": [],
   "source": [
    "import pandas as pd\n",
    "\n",
    "from sklearn.model_selection import train_test_split\n",
    "from sklearn.preprocessing import StandardScaler, OneHotEncoder\n",
    "from sklearn.impute import SimpleImputer\n",
    "from sklearn.pipeline import make_pipeline\n",
    "from sklearn.compose import make_column_transformer"
   ]
  }
 ],
 "metadata": {
  "kernelspec": {
   "display_name": ".venv",
   "language": "python",
   "name": "python3"
  },
  "language_info": {
   "codemirror_mode": {
    "name": "ipython",
    "version": 3
   },
   "file_extension": ".py",
   "mimetype": "text/x-python",
   "name": "python",
   "nbconvert_exporter": "python",
   "pygments_lexer": "ipython3",
   "version": "3.13.2"
  }
 },
 "nbformat": 4,
 "nbformat_minor": 5
}
