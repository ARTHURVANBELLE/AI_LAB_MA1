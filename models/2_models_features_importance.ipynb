{
 "cells": [
  {
   "cell_type": "markdown",
   "id": "78b105f2",
   "metadata": {},
   "source": []
  },
  {
   "cell_type": "markdown",
   "id": "98913996",
   "metadata": {},
   "source": [
    "## Import MatPlotLib & Setup"
   ]
  },
  {
   "cell_type": "code",
   "execution_count": null,
   "id": "3d9ceec4",
   "metadata": {
    "vscode": {
     "languageId": "plaintext"
    }
   },
   "outputs": [],
   "source": [
    "# Setup plotting\n",
    "import matplotlib.pyplot as plt\n",
    "# Set Matplotlib defaults\n",
    "plt.rc('figure', autolayout=True)\n",
    "plt.rc('axes', labelweight='bold', labelsize='large',\n",
    "       titleweight='bold', titlesize=18, titlepad=10)\n",
    "plt.rc('animation', html='html5')"
   ]
  },
  {
   "cell_type": "markdown",
   "id": "944f6efa",
   "metadata": {},
   "source": [
    "## Import Keras, Pandas & other used libraries"
   ]
  },
  {
   "cell_type": "code",
   "execution_count": null,
   "id": "9bc2e3d1",
   "metadata": {
    "vscode": {
     "languageId": "plaintext"
    }
   },
   "outputs": [],
   "source": [
    "import pandas as pd\n",
    "\n",
    "from sklearn.model_selection import train_test_split\n",
    "from sklearn.preprocessing import StandardScaler, OneHotEncoder\n",
    "from sklearn.impute import SimpleImputer\n",
    "from sklearn.pipeline import make_pipeline\n",
    "from sklearn.compose import make_column_transformer\n",
    "from sklearn.model_selection import GroupShuffleSplit\n",
    "\n",
    "from tensorflow import keras\n",
    "from tensorflow.keras import layers\n",
    "from tensorflow.keras import callbacks"
   ]
  },
  {
   "cell_type": "markdown",
   "id": "9a21c1e8",
   "metadata": {},
   "source": [
    "## Import Data"
   ]
  },
  {
   "cell_type": "code",
   "execution_count": null,
   "id": "f91ffa07",
   "metadata": {
    "vscode": {
     "languageId": "plaintext"
    }
   },
   "outputs": [],
   "source": [
    "df_game_events = pd.read_csv(\"../data/game_events.csv\")\n",
    "game_events_features = ['timestamp', 'event_type', 'killer_id', 'killer_name', 'killer_team_id',]\n",
    "\n",
    "df_game_metadata = pd.read_csv(\"../data/game_metadata.csv\")\n",
    "game_metadata_features = ['game_id']\n",
    "\n",
    "df_game_players_stats = pd.read_csv(\"../data/game_players_stats.csv\")\n",
    "df_game_players_stats.head()\n",
    "\n",
    "game_players_stats_features_num = ['game_length', 'champion_name', 'tower_kills', 'inhibitor_kills', 'dragon_kills', 'herald_kills', 'baron_kills', \n",
    "                               'player_kills', 'player_deaths', 'player_assists','total_minions_killed', 'gold_earned', 'level', \n",
    "                               'total_damage_dealt','total_damage_dealt_to_champions', 'total_damage_taken', 'wards_placed', \n",
    "                               'largest_killing_spree', 'largest_multi_kill']\n",
    "\n",
    "game_players_stats_features_by_user_num = ['player_kills', 'player_deaths', 'player_assists', 'total_minions_killed', 'gold_earned', 'level', \n",
    "                                            'total_damage_dealt', 'total_damage_dealt_to_champions', 'total_damage_taken', 'wards_placed', \n",
    "                                            'largest_killing_spree', 'largest_multi_kill']\n",
    "game_players_stats_features_by_user_cat = ['champion_name']\n",
    "\n",
    "pd.set_option('display.max_columns', None)\n",
    "pd.set_option('display.max_rows', None)\n",
    "match_players = df_game_players_stats[df_game_players_stats['game_id'] == 0]\n",
    "match_players.head(10)"
   ]
  },
  {
   "cell_type": "markdown",
   "id": "d7e97c54",
   "metadata": {},
   "source": [
    "## Preprocessing data for win determination with one player's data"
   ]
  },
  {
   "cell_type": "code",
   "execution_count": null,
   "id": "9f81ffe4",
   "metadata": {
    "vscode": {
     "languageId": "plaintext"
    }
   },
   "outputs": [],
   "source": [
    "def get_useful_player_data(player_id: int, game_id: int) -> pd.DataFrame:\n",
    "    \"\"\"\n",
    "    Get player data for a specific player and game.\n",
    "    \"\"\"\n",
    "    # Filter by game_id first\n",
    "    game_data = df_game_players_stats[df_game_players_stats['game_id'] == game_id]\n",
    "        \n",
    "    # Filter by player_id\n",
    "    player_data = game_data[game_data['player_id'] == player_id]\n",
    "    \n",
    "    # Calculate total kills in the match (across both teams)\n",
    "    total_kills = game_data['player_kills'].sum()\n",
    "    \n",
    "    # Create a new DataFrame with only the selected columns\n",
    "    player_selected = player_data[game_players_stats_features_num].copy()\n",
    "    \n",
    "    # Add the total kills column\n",
    "    player_selected['total_match_kills'] = total_kills\n",
    "    \n",
    "    return player_selected\n",
    "\n",
    "# Possibly add worthless death ratio & free kill ration, objective contest winrate & loserate\n",
    "representative_player_data_col_num = ['KLA', 'gold_pm', 'lvl_pm', 'creep_score_pm', 'wards_pm', \n",
    "               'damage_dealt_tkr', 'damage_dealt_pgr', 'damage_taken_tkr', 'damage_taken_pgr',\n",
    "               'largest_multikill', 'largest_killing_spree_tkr']\n",
    "\n",
    "def get_final_input_features_performances(dataframe : pd.DataFrame) -> pd.DataFrame:\n",
    "    \n",
    "    new_df = pd.DataFrame()\n",
    "    \n",
    "    new_df['KLA'] = (dataframe['player_kills'] + dataframe['player_assists']) / (dataframe['player_deaths'] + 1)\n",
    "    new_df['gold_pm'] = dataframe['gold_earned'] / dataframe['game_length']\n",
    "    new_df['lvl_pm'] = dataframe['level'] / dataframe['game_length']\n",
    "    new_df['creep_score_pm'] = dataframe['total_minions_killed'] / dataframe['game_length']\n",
    "    new_df['wards_pm'] = dataframe['wards_placed'] / dataframe['game_length']\n",
    "    new_df['damage_dealt_tkr'] = dataframe['total_damage_dealt'] / dataframe['total_match_kills']\n",
    "    new_df['damage_dealt_pgr'] = new_df['damage_dealt_tkr'] / (dataframe['gold_earned'])\n",
    "    new_df['damage_taken_tkr'] = dataframe['total_damage_taken'] / dataframe['total_match_kills']\n",
    "    new_df['damage_taken_pgr'] = new_df['damage_taken_tkr'] / (dataframe['gold_earned'])\n",
    "    new_df['largest_multikill'] = dataframe['largest_multi_kill']\n",
    "    new_df['largest_killing_spree_tkr'] = dataframe['largest_killing_spree'] / dataframe['total_match_kills']\n",
    "    \n",
    "    return new_df\n",
    "\n",
    "win_loose_preprocessor = make_column_transformer(\n",
    "    (StandardScaler(), representative_player_data_col_num)\n",
    ")\n",
    "\n",
    "top_X = df_game_players_stats.loc[df_game_players_stats['role'] == player_roles[0]].copy()\n",
    "top_X = top_X.loc[top_X['player_id'] != 21].copy()\n",
    "top_y = top_X['win'].copy()\n",
    "top_group = top_X['game_id'].copy()\n",
    "\n",
    "top_X = top_X[game_players_stats_features_by_user_num]\n",
    "\n",
    "def group_split(X: pd.DataFrame, y: pd.Series, group, train_size=0.75):\n",
    "    splitter = GroupShuffleSplit(train_size=train_size)\n",
    "    train, test = next(splitter.split(X, y, groups=group))\n",
    "    return (X.iloc[train], X.iloc[test], y.iloc[train], y.iloc[test])\n",
    "\n",
    "top_X_train, top_X_valid, top_y_train, top_y_valid = group_split(top_X, top_y, top_group, train_size=0.75)\n",
    "\n",
    "top_X_train = win_loose_preprocessor.fit_transform(top_X_train)\n",
    "top_X_valid = win_loose_preprocessor.transform(top_X_valid)\n",
    "\n",
    "top_input_shape = [top_X_train.shape[1]]\n",
    "print(\"Input shape: {}\".format(top_input_shape))"
   ]
  }
 ],
 "metadata": {
  "language_info": {
   "name": "python"
  }
 },
 "nbformat": 4,
 "nbformat_minor": 5
}
